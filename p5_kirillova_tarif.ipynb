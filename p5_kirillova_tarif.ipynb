{
 "cells": [
  {
   "cell_type": "markdown",
   "metadata": {},
   "source": [
    "# Рекомендация тарифов"
   ]
  },
  {
   "cell_type": "markdown",
   "metadata": {},
   "source": [
    "В вашем распоряжении данные о поведении клиентов, которые уже перешли на эти тарифы (из проекта курса «Статистический анализ данных»). Нужно построить модель для задачи классификации, которая выберет подходящий тариф. Предобработка данных не понадобится — вы её уже сделали.\n",
    "\n",
    "Постройте модель с максимально большим значением *accuracy*. Чтобы сдать проект успешно, нужно довести долю правильных ответов по крайней мере до 0.75. Проверьте *accuracy* на тестовой выборке самостоятельно.\n",
    "\n",
    "\n",
    "# Структура данных:\n",
    "\n",
    "- сalls — количество звонков,\n",
    "- minutes — суммарная длительность звонков в минутах,\n",
    "- messages — количество sms-сообщений,\n",
    "- mb_used — израсходованный интернет-трафик в Мб,\n",
    "- is_ultra — каким тарифом пользовался в течение месяца («Ультра» — 1, «Смарт» — 0)."
   ]
  },
  {
   "cell_type": "markdown",
   "metadata": {},
   "source": [
    "## Откроем файлы с данными и изучим общую информацию"
   ]
  },
  {
   "cell_type": "markdown",
   "metadata": {},
   "source": [
    "Импортируем необходимые библиотеки"
   ]
  },
  {
   "cell_type": "code",
   "execution_count": 1,
   "metadata": {},
   "outputs": [],
   "source": [
    "import pandas as pd\n",
    "from sklearn.tree import DecisionTreeClassifier\n",
    "from sklearn.metrics import accuracy_score\n",
    "from sklearn.metrics import precision_score\n",
    "from sklearn.metrics import recall_score\n",
    "from sklearn.metrics import f1_score\n",
    "from sklearn.model_selection import train_test_split\n",
    "from sklearn.ensemble import RandomForestClassifier\n",
    "from sklearn.linear_model import LogisticRegression\n",
    "from sklearn.metrics import roc_auc_score\n",
    "from sklearn.metrics import roc_curve\n",
    "import matplotlib.pyplot as plt"
   ]
  },
  {
   "cell_type": "code",
   "execution_count": 2,
   "metadata": {},
   "outputs": [],
   "source": [
    "#Откроем файл\n",
    "df = pd.read_csv('/datasets/users_behavior.csv')"
   ]
  },
  {
   "cell_type": "code",
   "execution_count": 3,
   "metadata": {},
   "outputs": [
    {
     "data": {
      "text/html": [
       "<div>\n",
       "<style scoped>\n",
       "    .dataframe tbody tr th:only-of-type {\n",
       "        vertical-align: middle;\n",
       "    }\n",
       "\n",
       "    .dataframe tbody tr th {\n",
       "        vertical-align: top;\n",
       "    }\n",
       "\n",
       "    .dataframe thead th {\n",
       "        text-align: right;\n",
       "    }\n",
       "</style>\n",
       "<table border=\"1\" class=\"dataframe\">\n",
       "  <thead>\n",
       "    <tr style=\"text-align: right;\">\n",
       "      <th></th>\n",
       "      <th>calls</th>\n",
       "      <th>minutes</th>\n",
       "      <th>messages</th>\n",
       "      <th>mb_used</th>\n",
       "      <th>is_ultra</th>\n",
       "    </tr>\n",
       "  </thead>\n",
       "  <tbody>\n",
       "    <tr>\n",
       "      <th>0</th>\n",
       "      <td>40.0</td>\n",
       "      <td>311.90</td>\n",
       "      <td>83.0</td>\n",
       "      <td>19915.42</td>\n",
       "      <td>0</td>\n",
       "    </tr>\n",
       "    <tr>\n",
       "      <th>1</th>\n",
       "      <td>85.0</td>\n",
       "      <td>516.75</td>\n",
       "      <td>56.0</td>\n",
       "      <td>22696.96</td>\n",
       "      <td>0</td>\n",
       "    </tr>\n",
       "    <tr>\n",
       "      <th>2</th>\n",
       "      <td>77.0</td>\n",
       "      <td>467.66</td>\n",
       "      <td>86.0</td>\n",
       "      <td>21060.45</td>\n",
       "      <td>0</td>\n",
       "    </tr>\n",
       "    <tr>\n",
       "      <th>3</th>\n",
       "      <td>106.0</td>\n",
       "      <td>745.53</td>\n",
       "      <td>81.0</td>\n",
       "      <td>8437.39</td>\n",
       "      <td>1</td>\n",
       "    </tr>\n",
       "    <tr>\n",
       "      <th>4</th>\n",
       "      <td>66.0</td>\n",
       "      <td>418.74</td>\n",
       "      <td>1.0</td>\n",
       "      <td>14502.75</td>\n",
       "      <td>0</td>\n",
       "    </tr>\n",
       "  </tbody>\n",
       "</table>\n",
       "</div>"
      ],
      "text/plain": [
       "   calls  minutes  messages   mb_used  is_ultra\n",
       "0   40.0   311.90      83.0  19915.42         0\n",
       "1   85.0   516.75      56.0  22696.96         0\n",
       "2   77.0   467.66      86.0  21060.45         0\n",
       "3  106.0   745.53      81.0   8437.39         1\n",
       "4   66.0   418.74       1.0  14502.75         0"
      ]
     },
     "metadata": {},
     "output_type": "display_data"
    }
   ],
   "source": [
    "#Рассмотрим первые 5 строк таблицы\n",
    "display(df.head())"
   ]
  },
  {
   "cell_type": "code",
   "execution_count": 4,
   "metadata": {},
   "outputs": [
    {
     "name": "stdout",
     "output_type": "stream",
     "text": [
      "<class 'pandas.core.frame.DataFrame'>\n",
      "RangeIndex: 3214 entries, 0 to 3213\n",
      "Data columns (total 5 columns):\n",
      " #   Column    Non-Null Count  Dtype  \n",
      "---  ------    --------------  -----  \n",
      " 0   calls     3214 non-null   float64\n",
      " 1   minutes   3214 non-null   float64\n",
      " 2   messages  3214 non-null   float64\n",
      " 3   mb_used   3214 non-null   float64\n",
      " 4   is_ultra  3214 non-null   int64  \n",
      "dtypes: float64(4), int64(1)\n",
      "memory usage: 125.7 KB\n"
     ]
    }
   ],
   "source": [
    "#Просмотрим общую информацию о таблице\n",
    "df.info()"
   ]
  },
  {
   "cell_type": "code",
   "execution_count": 5,
   "metadata": {},
   "outputs": [
    {
     "data": {
      "text/plain": [
       "0    2229\n",
       "1     985\n",
       "Name: is_ultra, dtype: int64"
      ]
     },
     "execution_count": 5,
     "metadata": {},
     "output_type": "execute_result"
    }
   ],
   "source": [
    "df.is_ultra.value_counts()"
   ]
  },
  {
   "cell_type": "markdown",
   "metadata": {},
   "source": [
    "*Вывод:*\n",
    "- Таблица содержит 3214 строк и не имеет нулевых значений;\n",
    "- В таблице 5 столбцов со следующим наименованием: `calls`, `minutes`, `messages`, `mb_used`, `is_ultra`;\n",
    "- Столбец `is_ultra` в формате `int64`, все остальные столбцы в формате `float64`;\n",
    "- Столбец `is_ultra` будет взять за целевой признак, остальные признаки помогут в предсказании решений;\n",
    "- Так как данных немного, то модель может быть переобученой."
   ]
  },
  {
   "cell_type": "markdown",
   "metadata": {},
   "source": [
    "## Разделим данные на выборки"
   ]
  },
  {
   "cell_type": "markdown",
   "metadata": {},
   "source": [
    "**Разобьем выборку по приницу 60/20/20 для оптимального исхода**"
   ]
  },
  {
   "cell_type": "code",
   "execution_count": 6,
   "metadata": {},
   "outputs": [
    {
     "name": "stdout",
     "output_type": "stream",
     "text": [
      "Размер Тренериующей выборки 1928\n",
      "Размер Валидационной выборки 643\n",
      "Размер Тестовой выборки 643\n"
     ]
    }
   ],
   "source": [
    "train_df, fn_df = train_test_split(df, test_size=0.40, random_state=13032023)\n",
    "valid_df, test_df = train_test_split(fn_df, test_size=0.50, random_state=13032023)\n",
    "\n",
    "print('Размер Тренериующей выборки', train_df.shape[0])\n",
    "print('Размер Валидационной выборки', valid_df.shape[0])\n",
    "print('Размер Тестовой выборки', test_df.shape[0])"
   ]
  },
  {
   "cell_type": "markdown",
   "metadata": {},
   "source": [
    "**Составим таблицы признаков и целевого признака для каждого Data Frame**"
   ]
  },
  {
   "cell_type": "code",
   "execution_count": 7,
   "metadata": {},
   "outputs": [],
   "source": [
    "train_df_features = train_df.drop(['is_ultra'], axis=1)\n",
    "train_df_target = train_df['is_ultra']\n",
    "\n",
    "valid_df_features = valid_df.drop(['is_ultra'], axis=1)\n",
    "valid_df_target = valid_df['is_ultra']\n",
    "\n",
    "test_df_features = test_df.drop(['is_ultra'], axis=1)\n",
    "test_df_target = test_df['is_ultra']"
   ]
  },
  {
   "cell_type": "markdown",
   "metadata": {},
   "source": [
    "*Вывод:*\n",
    "- Выделили признаки из общих данных, это все столбцы за исключением столбца `is_ultra` и назвали их `features`;\n",
    "- Выделили целевой признак из общих данных - это столбец `is_ultra` и назвали его `target`;\n",
    "- Далее от общего массива данных отделили 20% тестовых данных;\n",
    "- Оставшийся массив разделили на тренировочне данные - это 75% данных и валидационные - это 25% данных. В итоге данные разделились в пропорции 60/20/20;\n",
    "- Обучение будет проводиться на данных `train_df`;\n",
    "- Валидация последующих моделей будет проведена на данных `valid_df`;\n",
    "- Наилучшая модель по валидации будет применима на данных `test_df`."
   ]
  },
  {
   "cell_type": "markdown",
   "metadata": {},
   "source": [
    "## Исследуем модели"
   ]
  },
  {
   "cell_type": "markdown",
   "metadata": {},
   "source": [
    "**Модель типа `Дерево решений`**\n",
    "\n",
    "Изменим в цикле гиперматаметр `max_depth`"
   ]
  },
  {
   "cell_type": "code",
   "execution_count": 8,
   "metadata": {},
   "outputs": [
    {
     "name": "stdout",
     "output_type": "stream",
     "text": [
      "Глубина дерева 1 Точность 0.7402799377916018\n",
      "Глубина дерева 2 Точность 0.7573872472783826\n",
      "Глубина дерева 3 Точность 0.7698289269051322\n",
      "Глубина дерева 4 Точность 0.7682737169517885\n",
      "Глубина дерева 5 Точность 0.7667185069984448\n",
      "Глубина дерева 6 Точность 0.7682737169517885\n",
      "Глубина дерева 7 Точность 0.7776049766718507\n",
      "Глубина дерева 8 Точность 0.76049766718507\n",
      "Глубина дерева 9 Точность 0.7744945567651633\n",
      "Глубина дерева 10 Точность 0.7698289269051322\n",
      "Глубина дерева 11 Точность 0.7620528771384136\n",
      "Глубина дерева 12 Точность 0.744945567651633\n",
      "Глубина дерева 13 Точность 0.744945567651633\n",
      "Глубина дерева 14 Точность 0.7371695178849145\n",
      "Лучшая глубина дерева 7 Лучшая точность 0.7776049766718507\n"
     ]
    }
   ],
   "source": [
    "best_depth = 0\n",
    "best_accuracy = 0\n",
    "\n",
    "for depth in range(1,15):\n",
    "    model = DecisionTreeClassifier(random_state=13032023, max_depth=depth)\n",
    "    model.fit(train_df_features, train_df_target)\n",
    "    valid_predictions = model.predict(valid_df_features)\n",
    "    accuracy = accuracy_score(valid_df_target, valid_predictions)\n",
    "    print('Глубина дерева', depth,'Точность',accuracy)\n",
    "    if accuracy > best_accuracy:\n",
    "        best_depth = depth\n",
    "        best_accuracy = accuracy\n",
    "\n",
    "print('Лучшая глубина дерева', best_depth,'Лучшая точность', best_accuracy) "
   ]
  },
  {
   "cell_type": "code",
   "execution_count": 20,
   "metadata": {},
   "outputs": [
    {
     "name": "stdout",
     "output_type": "stream",
     "text": [
      "Глубина дерева 7 Точность 0.7776049766718507\n"
     ]
    }
   ],
   "source": [
    "best_tree_model = DecisionTreeClassifier(random_state=13032023, max_depth=7)\n",
    "best_tree_model.fit(train_df_features, train_df_target)\n",
    "valid_predictions = best_tree_model.predict(valid_df_features)\n",
    "accuracy = accuracy_score(valid_df_target, valid_predictions)\n",
    "print('Глубина дерева', 7,'Точность',accuracy)"
   ]
  },
  {
   "cell_type": "markdown",
   "metadata": {},
   "source": [
    "**Теперь настроим гиперматаметр `criterion c gini` на `entropy`**"
   ]
  },
  {
   "cell_type": "code",
   "execution_count": 21,
   "metadata": {},
   "outputs": [
    {
     "name": "stdout",
     "output_type": "stream",
     "text": [
      "Глубина дерева 7 Точность 0.7776049766718507\n"
     ]
    }
   ],
   "source": [
    "model = DecisionTreeClassifier(random_state=13032023, max_depth=7, criterion=\"entropy\")\n",
    "model.fit(train_df_features, train_df_target)\n",
    "\n",
    "valid_predictions = best_tree_model.predict(valid_df_features)\n",
    "\n",
    "accuracy = accuracy_score(valid_df_target, valid_predictions)\n",
    "\n",
    "print('Глубина дерева', 7,'Точность',accuracy)"
   ]
  },
  {
   "cell_type": "markdown",
   "metadata": {},
   "source": [
    "*Гиперпараметр `gini` показывает себя лучше*\n",
    "\n",
    "**Теперь изменим `splitter c best` на `random`**"
   ]
  },
  {
   "cell_type": "code",
   "execution_count": 22,
   "metadata": {},
   "outputs": [
    {
     "name": "stdout",
     "output_type": "stream",
     "text": [
      "Глубина дерева 7 Точность 0.7776049766718507\n"
     ]
    }
   ],
   "source": [
    "model = DecisionTreeClassifier(random_state=23042020, max_depth=8, splitter='random')\n",
    "model.fit(train_df_features, train_df_target)\n",
    "\n",
    "valid_predictions = best_tree_model.predict(valid_df_features)\n",
    "\n",
    "accuracy = accuracy_score(valid_df_target, valid_predictions)\n",
    "\n",
    "print('Глубина дерева', 7,'Точность',accuracy)"
   ]
  },
  {
   "cell_type": "markdown",
   "metadata": {},
   "source": [
    "*Гиперпараметр `best` работает лучше*"
   ]
  },
  {
   "cell_type": "markdown",
   "metadata": {},
   "source": [
    "**Для модели `дерево решений` написали цикл с перебором глубины от 1 до 14 и вывели список результатов:**\n",
    "- Для улучшения качества модели установили следующие гиперпараметры: `random_state=13032023` `max_depth=depth` (глубина дерева решений будет изменяться в диапозоне от 1 до 14) `max_features='auto'` - число признаков для выбора расщепления `criterion = 'entropy'` - изменен критерий Джини, который установлен по умолчания, на энтропию;\n",
    "- По полученным результатам можно сделать вывод, что максимальная доля правильных ответов модели наблюдается при глубине дерева равное 7 (`max_depth = 7`) и составляет 0.7776049766718507."
   ]
  },
  {
   "cell_type": "markdown",
   "metadata": {},
   "source": [
    "**Модель типа `Случайный лес`**\n",
    "\n",
    "*Изменим в цикле гиперпараметр `n_estimators`*"
   ]
  },
  {
   "cell_type": "code",
   "execution_count": 54,
   "metadata": {},
   "outputs": [
    {
     "name": "stdout",
     "output_type": "stream",
     "text": [
      "Количество деревьев 1 Точность 0.7262830482115086\n",
      "Количество деревьев 2 Точность 0.749611197511664\n",
      "Количество деревьев 3 Точность 0.7527216174183515\n",
      "Количество деревьев 4 Точность 0.7744945567651633\n",
      "Количество деревьев 5 Точность 0.76049766718507\n",
      "Количество деревьев 6 Точность 0.7869362363919129\n",
      "Количество деревьев 7 Точность 0.7667185069984448\n",
      "Количество деревьев 8 Точность 0.7776049766718507\n",
      "Количество деревьев 9 Точность 0.7667185069984448\n",
      "Количество деревьев 10 Точность 0.7776049766718507\n",
      "Количество деревьев 11 Точность 0.7651632970451011\n",
      "Количество деревьев 12 Точность 0.7791601866251944\n",
      "Количество деревьев 13 Точность 0.7853810264385692\n",
      "Количество деревьев 14 Точность 0.7838258164852255\n",
      "Количество деревьев 15 Точность 0.7822706065318819\n",
      "Количество деревьев 16 Точность 0.7884914463452566\n",
      "Количество деревьев 17 Точность 0.7884914463452566\n",
      "Количество деревьев 18 Точность 0.7900466562986003\n",
      "Количество деревьев 19 Точность 0.7884914463452566\n",
      "Лучшее количество деревьев 18 Лучшая точность 0.7900466562986003\n"
     ]
    }
   ],
   "source": [
    "best_estim = 0\n",
    "best_accuracy = 0\n",
    "\n",
    "for estim in range(1,20):\n",
    "    model = RandomForestClassifier(random_state=13032023, n_estimators=estim)\n",
    "    model.fit(train_df_features, train_df_target)\n",
    "    valid_predictions = model.predict(valid_df_features)\n",
    "    accuracy = accuracy_score(valid_df_target, valid_predictions)\n",
    "    print('Количество деревьев', estim,'Точность',accuracy)\n",
    "    if accuracy > best_accuracy:\n",
    "        best_estim = estim\n",
    "        best_accuracy = accuracy\n",
    "\n",
    "print('Лучшее количество деревьев', best_estim,'Лучшая точность', best_accuracy)"
   ]
  },
  {
   "cell_type": "code",
   "execution_count": 56,
   "metadata": {},
   "outputs": [
    {
     "name": "stdout",
     "output_type": "stream",
     "text": [
      "Количество деревьев 18 Точность 0.7900466562986003\n"
     ]
    }
   ],
   "source": [
    "best_forest_model = RandomForestClassifier(random_state=13032023, n_estimators=18)\n",
    "best_forest_model.fit(train_df_features, train_df_target)\n",
    "valid_predictions = best_forest_model.predict(valid_df_features)\n",
    "accuracy = accuracy_score(valid_df_target, valid_predictions)\n",
    "print('Количество деревьев', 18,'Точность',accuracy)"
   ]
  },
  {
   "cell_type": "markdown",
   "metadata": {},
   "source": [
    "**Теперь настроим гиперматаметр `criterion c gini` на `entropy`**"
   ]
  },
  {
   "cell_type": "code",
   "execution_count": 58,
   "metadata": {},
   "outputs": [
    {
     "name": "stdout",
     "output_type": "stream",
     "text": [
      "Количество деревьев 19 Точность 0.7884914463452566\n"
     ]
    }
   ],
   "source": [
    "model = RandomForestClassifier(random_state=13032023, n_estimators=18, criterion='entropy')\n",
    "model.fit(train_df_features, train_df_target)\n",
    "valid_predictions = model.predict(valid_df_features)\n",
    "accuracy = accuracy_score(valid_df_target, valid_predictions)\n",
    "print('Количество деревьев', estim,'Точность',accuracy)"
   ]
  },
  {
   "cell_type": "markdown",
   "metadata": {},
   "source": [
    "*Гиперпараметр `gini` показывает себя лучше*\n",
    "\n",
    "**Изменим `bootstrap` с `True` на `Flase`**"
   ]
  },
  {
   "cell_type": "code",
   "execution_count": 59,
   "metadata": {},
   "outputs": [
    {
     "name": "stdout",
     "output_type": "stream",
     "text": [
      "Количество деревьев 19 Точность 0.7713841368584758\n"
     ]
    }
   ],
   "source": [
    "model = RandomForestClassifier(random_state=13032023, n_estimators=18, bootstrap=False)\n",
    "model.fit(train_df_features, train_df_target)\n",
    "valid_predictions = model.predict(valid_df_features)\n",
    "accuracy = accuracy_score(valid_df_target, valid_predictions)\n",
    "print('Количество деревьев', estim,'Точность',accuracy)"
   ]
  },
  {
   "cell_type": "markdown",
   "metadata": {},
   "source": [
    "*`bootstrap` с `True` показывает себя лучше*\n",
    "\n",
    "**Изменим `warm_start` с `False` на `True`**"
   ]
  },
  {
   "cell_type": "code",
   "execution_count": 61,
   "metadata": {},
   "outputs": [
    {
     "name": "stdout",
     "output_type": "stream",
     "text": [
      "Количество деревьев 19 Точность 0.7900466562986003\n"
     ]
    }
   ],
   "source": [
    "model = RandomForestClassifier(random_state=13032023, n_estimators=18, warm_start=True)\n",
    "model.fit(train_df_features, train_df_target)\n",
    "valid_predictions = model.predict(valid_df_features)\n",
    "accuracy = accuracy_score(valid_df_target, valid_predictions)\n",
    "print('Количество деревьев', estim,'Точность',accuracy)"
   ]
  },
  {
   "cell_type": "markdown",
   "metadata": {},
   "source": [
    "*Значения не изменились*"
   ]
  },
  {
   "cell_type": "markdown",
   "metadata": {},
   "source": [
    "**Для модели `случайный лес` был написан двойной цикл с перебором количества деревьев:**\n",
    "- Методом подбора максимального количества деревьев и глубины, пришли к выводу, что лучший результат наблюдается при количестве деревьев 18(`n_estimators=18`) и составляет 0.7900466562986003;"
   ]
  },
  {
   "cell_type": "markdown",
   "metadata": {},
   "source": [
    "Модель типа `Логистическая регрессия`\n",
    "\n",
    "Изменим гипер параметр `max_iter` в цикле"
   ]
  },
  {
   "cell_type": "code",
   "execution_count": 64,
   "metadata": {},
   "outputs": [
    {
     "name": "stderr",
     "output_type": "stream",
     "text": [
      "/opt/conda/lib/python3.9/site-packages/sklearn/linear_model/_logistic.py:763: ConvergenceWarning: lbfgs failed to converge (status=1):\n",
      "STOP: TOTAL NO. of ITERATIONS REACHED LIMIT.\n",
      "\n",
      "Increase the number of iterations (max_iter) or scale the data as shown in:\n",
      "    https://scikit-learn.org/stable/modules/preprocessing.html\n",
      "Please also refer to the documentation for alternative solver options:\n",
      "    https://scikit-learn.org/stable/modules/linear_model.html#logistic-regression\n",
      "  n_iter_i = _check_optimize_result(\n",
      "/opt/conda/lib/python3.9/site-packages/sklearn/linear_model/_logistic.py:763: ConvergenceWarning: lbfgs failed to converge (status=1):\n",
      "STOP: TOTAL NO. of ITERATIONS REACHED LIMIT.\n",
      "\n",
      "Increase the number of iterations (max_iter) or scale the data as shown in:\n",
      "    https://scikit-learn.org/stable/modules/preprocessing.html\n",
      "Please also refer to the documentation for alternative solver options:\n",
      "    https://scikit-learn.org/stable/modules/linear_model.html#logistic-regression\n",
      "  n_iter_i = _check_optimize_result(\n",
      "/opt/conda/lib/python3.9/site-packages/sklearn/linear_model/_logistic.py:763: ConvergenceWarning: lbfgs failed to converge (status=1):\n",
      "STOP: TOTAL NO. of ITERATIONS REACHED LIMIT.\n",
      "\n",
      "Increase the number of iterations (max_iter) or scale the data as shown in:\n",
      "    https://scikit-learn.org/stable/modules/preprocessing.html\n",
      "Please also refer to the documentation for alternative solver options:\n",
      "    https://scikit-learn.org/stable/modules/linear_model.html#logistic-regression\n",
      "  n_iter_i = _check_optimize_result(\n",
      "/opt/conda/lib/python3.9/site-packages/sklearn/linear_model/_logistic.py:763: ConvergenceWarning: lbfgs failed to converge (status=1):\n",
      "STOP: TOTAL NO. of ITERATIONS REACHED LIMIT.\n",
      "\n",
      "Increase the number of iterations (max_iter) or scale the data as shown in:\n",
      "    https://scikit-learn.org/stable/modules/preprocessing.html\n",
      "Please also refer to the documentation for alternative solver options:\n",
      "    https://scikit-learn.org/stable/modules/linear_model.html#logistic-regression\n",
      "  n_iter_i = _check_optimize_result(\n",
      "/opt/conda/lib/python3.9/site-packages/sklearn/linear_model/_logistic.py:763: ConvergenceWarning: lbfgs failed to converge (status=1):\n",
      "STOP: TOTAL NO. of ITERATIONS REACHED LIMIT.\n",
      "\n",
      "Increase the number of iterations (max_iter) or scale the data as shown in:\n",
      "    https://scikit-learn.org/stable/modules/preprocessing.html\n",
      "Please also refer to the documentation for alternative solver options:\n",
      "    https://scikit-learn.org/stable/modules/linear_model.html#logistic-regression\n",
      "  n_iter_i = _check_optimize_result(\n",
      "/opt/conda/lib/python3.9/site-packages/sklearn/linear_model/_logistic.py:763: ConvergenceWarning: lbfgs failed to converge (status=1):\n",
      "STOP: TOTAL NO. of ITERATIONS REACHED LIMIT.\n",
      "\n",
      "Increase the number of iterations (max_iter) or scale the data as shown in:\n",
      "    https://scikit-learn.org/stable/modules/preprocessing.html\n",
      "Please also refer to the documentation for alternative solver options:\n",
      "    https://scikit-learn.org/stable/modules/linear_model.html#logistic-regression\n",
      "  n_iter_i = _check_optimize_result(\n",
      "/opt/conda/lib/python3.9/site-packages/sklearn/linear_model/_logistic.py:763: ConvergenceWarning: lbfgs failed to converge (status=1):\n",
      "STOP: TOTAL NO. of ITERATIONS REACHED LIMIT.\n",
      "\n",
      "Increase the number of iterations (max_iter) or scale the data as shown in:\n",
      "    https://scikit-learn.org/stable/modules/preprocessing.html\n",
      "Please also refer to the documentation for alternative solver options:\n",
      "    https://scikit-learn.org/stable/modules/linear_model.html#logistic-regression\n",
      "  n_iter_i = _check_optimize_result(\n",
      "/opt/conda/lib/python3.9/site-packages/sklearn/linear_model/_logistic.py:763: ConvergenceWarning: lbfgs failed to converge (status=1):\n",
      "STOP: TOTAL NO. of ITERATIONS REACHED LIMIT.\n",
      "\n",
      "Increase the number of iterations (max_iter) or scale the data as shown in:\n",
      "    https://scikit-learn.org/stable/modules/preprocessing.html\n",
      "Please also refer to the documentation for alternative solver options:\n",
      "    https://scikit-learn.org/stable/modules/linear_model.html#logistic-regression\n",
      "  n_iter_i = _check_optimize_result(\n",
      "/opt/conda/lib/python3.9/site-packages/sklearn/linear_model/_logistic.py:763: ConvergenceWarning: lbfgs failed to converge (status=1):\n",
      "STOP: TOTAL NO. of ITERATIONS REACHED LIMIT.\n",
      "\n",
      "Increase the number of iterations (max_iter) or scale the data as shown in:\n",
      "    https://scikit-learn.org/stable/modules/preprocessing.html\n",
      "Please also refer to the documentation for alternative solver options:\n",
      "    https://scikit-learn.org/stable/modules/linear_model.html#logistic-regression\n",
      "  n_iter_i = _check_optimize_result(\n",
      "/opt/conda/lib/python3.9/site-packages/sklearn/linear_model/_logistic.py:763: ConvergenceWarning: lbfgs failed to converge (status=1):\n",
      "STOP: TOTAL NO. of ITERATIONS REACHED LIMIT.\n",
      "\n",
      "Increase the number of iterations (max_iter) or scale the data as shown in:\n",
      "    https://scikit-learn.org/stable/modules/preprocessing.html\n",
      "Please also refer to the documentation for alternative solver options:\n",
      "    https://scikit-learn.org/stable/modules/linear_model.html#logistic-regression\n",
      "  n_iter_i = _check_optimize_result(\n",
      "/opt/conda/lib/python3.9/site-packages/sklearn/linear_model/_logistic.py:763: ConvergenceWarning: lbfgs failed to converge (status=1):\n",
      "STOP: TOTAL NO. of ITERATIONS REACHED LIMIT.\n",
      "\n",
      "Increase the number of iterations (max_iter) or scale the data as shown in:\n",
      "    https://scikit-learn.org/stable/modules/preprocessing.html\n",
      "Please also refer to the documentation for alternative solver options:\n",
      "    https://scikit-learn.org/stable/modules/linear_model.html#logistic-regression\n",
      "  n_iter_i = _check_optimize_result(\n",
      "/opt/conda/lib/python3.9/site-packages/sklearn/linear_model/_logistic.py:763: ConvergenceWarning: lbfgs failed to converge (status=1):\n",
      "STOP: TOTAL NO. of ITERATIONS REACHED LIMIT.\n",
      "\n",
      "Increase the number of iterations (max_iter) or scale the data as shown in:\n",
      "    https://scikit-learn.org/stable/modules/preprocessing.html\n",
      "Please also refer to the documentation for alternative solver options:\n",
      "    https://scikit-learn.org/stable/modules/linear_model.html#logistic-regression\n",
      "  n_iter_i = _check_optimize_result(\n",
      "/opt/conda/lib/python3.9/site-packages/sklearn/linear_model/_logistic.py:763: ConvergenceWarning: lbfgs failed to converge (status=1):\n",
      "STOP: TOTAL NO. of ITERATIONS REACHED LIMIT.\n",
      "\n",
      "Increase the number of iterations (max_iter) or scale the data as shown in:\n",
      "    https://scikit-learn.org/stable/modules/preprocessing.html\n",
      "Please also refer to the documentation for alternative solver options:\n",
      "    https://scikit-learn.org/stable/modules/linear_model.html#logistic-regression\n",
      "  n_iter_i = _check_optimize_result(\n",
      "/opt/conda/lib/python3.9/site-packages/sklearn/linear_model/_logistic.py:763: ConvergenceWarning: lbfgs failed to converge (status=1):\n",
      "STOP: TOTAL NO. of ITERATIONS REACHED LIMIT.\n",
      "\n",
      "Increase the number of iterations (max_iter) or scale the data as shown in:\n",
      "    https://scikit-learn.org/stable/modules/preprocessing.html\n",
      "Please also refer to the documentation for alternative solver options:\n",
      "    https://scikit-learn.org/stable/modules/linear_model.html#logistic-regression\n",
      "  n_iter_i = _check_optimize_result(\n",
      "/opt/conda/lib/python3.9/site-packages/sklearn/linear_model/_logistic.py:763: ConvergenceWarning: lbfgs failed to converge (status=1):\n",
      "STOP: TOTAL NO. of ITERATIONS REACHED LIMIT.\n",
      "\n",
      "Increase the number of iterations (max_iter) or scale the data as shown in:\n",
      "    https://scikit-learn.org/stable/modules/preprocessing.html\n",
      "Please also refer to the documentation for alternative solver options:\n",
      "    https://scikit-learn.org/stable/modules/linear_model.html#logistic-regression\n",
      "  n_iter_i = _check_optimize_result(\n",
      "/opt/conda/lib/python3.9/site-packages/sklearn/linear_model/_logistic.py:763: ConvergenceWarning: lbfgs failed to converge (status=1):\n",
      "STOP: TOTAL NO. of ITERATIONS REACHED LIMIT.\n",
      "\n",
      "Increase the number of iterations (max_iter) or scale the data as shown in:\n",
      "    https://scikit-learn.org/stable/modules/preprocessing.html\n",
      "Please also refer to the documentation for alternative solver options:\n",
      "    https://scikit-learn.org/stable/modules/linear_model.html#logistic-regression\n",
      "  n_iter_i = _check_optimize_result(\n",
      "/opt/conda/lib/python3.9/site-packages/sklearn/linear_model/_logistic.py:763: ConvergenceWarning: lbfgs failed to converge (status=1):\n",
      "STOP: TOTAL NO. of ITERATIONS REACHED LIMIT.\n",
      "\n",
      "Increase the number of iterations (max_iter) or scale the data as shown in:\n",
      "    https://scikit-learn.org/stable/modules/preprocessing.html\n",
      "Please also refer to the documentation for alternative solver options:\n",
      "    https://scikit-learn.org/stable/modules/linear_model.html#logistic-regression\n",
      "  n_iter_i = _check_optimize_result(\n",
      "/opt/conda/lib/python3.9/site-packages/sklearn/linear_model/_logistic.py:763: ConvergenceWarning: lbfgs failed to converge (status=1):\n",
      "STOP: TOTAL NO. of ITERATIONS REACHED LIMIT.\n",
      "\n",
      "Increase the number of iterations (max_iter) or scale the data as shown in:\n",
      "    https://scikit-learn.org/stable/modules/preprocessing.html\n",
      "Please also refer to the documentation for alternative solver options:\n",
      "    https://scikit-learn.org/stable/modules/linear_model.html#logistic-regression\n",
      "  n_iter_i = _check_optimize_result(\n",
      "/opt/conda/lib/python3.9/site-packages/sklearn/linear_model/_logistic.py:763: ConvergenceWarning: lbfgs failed to converge (status=1):\n",
      "STOP: TOTAL NO. of ITERATIONS REACHED LIMIT.\n",
      "\n",
      "Increase the number of iterations (max_iter) or scale the data as shown in:\n",
      "    https://scikit-learn.org/stable/modules/preprocessing.html\n",
      "Please also refer to the documentation for alternative solver options:\n",
      "    https://scikit-learn.org/stable/modules/linear_model.html#logistic-regression\n",
      "  n_iter_i = _check_optimize_result(\n",
      "/opt/conda/lib/python3.9/site-packages/sklearn/linear_model/_logistic.py:763: ConvergenceWarning: lbfgs failed to converge (status=1):\n",
      "STOP: TOTAL NO. of ITERATIONS REACHED LIMIT.\n",
      "\n",
      "Increase the number of iterations (max_iter) or scale the data as shown in:\n",
      "    https://scikit-learn.org/stable/modules/preprocessing.html\n",
      "Please also refer to the documentation for alternative solver options:\n",
      "    https://scikit-learn.org/stable/modules/linear_model.html#logistic-regression\n",
      "  n_iter_i = _check_optimize_result(\n",
      "/opt/conda/lib/python3.9/site-packages/sklearn/linear_model/_logistic.py:763: ConvergenceWarning: lbfgs failed to converge (status=1):\n",
      "STOP: TOTAL NO. of ITERATIONS REACHED LIMIT.\n",
      "\n",
      "Increase the number of iterations (max_iter) or scale the data as shown in:\n",
      "    https://scikit-learn.org/stable/modules/preprocessing.html\n",
      "Please also refer to the documentation for alternative solver options:\n",
      "    https://scikit-learn.org/stable/modules/linear_model.html#logistic-regression\n",
      "  n_iter_i = _check_optimize_result(\n"
     ]
    },
    {
     "name": "stdout",
     "output_type": "stream",
     "text": [
      "Количество итерраций 1 Точность 0.6951788491446346\n",
      "Количество итерраций 2 Точность 0.6951788491446346\n",
      "Количество итерраций 3 Точность 0.6951788491446346\n",
      "Количество итерраций 4 Точность 0.6951788491446346\n",
      "Количество итерраций 5 Точность 0.6951788491446346\n",
      "Количество итерраций 6 Точность 0.6951788491446346\n",
      "Количество итерраций 7 Точность 0.6951788491446346\n",
      "Количество итерраций 8 Точность 0.6951788491446346\n",
      "Количество итерраций 9 Точность 0.6951788491446346\n",
      "Количество итерраций 10 Точность 0.6951788491446346\n",
      "Количество итерраций 11 Точность 0.6951788491446346\n",
      "Количество итерраций 12 Точность 0.6951788491446346\n",
      "Количество итерраций 13 Точность 0.6951788491446346\n",
      "Количество итерраций 14 Точность 0.6951788491446346\n",
      "Количество итерраций 15 Точность 0.6951788491446346\n",
      "Количество итерраций 16 Точность 0.6951788491446346\n",
      "Количество итерраций 17 Точность 0.6951788491446346\n",
      "Количество итерраций 18 Точность 0.6951788491446346\n",
      "Количество итерраций 19 Точность 0.6951788491446346\n",
      "Количество итерраций 20 Точность 0.6951788491446346\n",
      "Количество итерраций 21 Точность 0.6951788491446346\n",
      "Количество итерраций 22 Точность 0.6951788491446346\n",
      "Количество итерраций 23 Точность 0.6951788491446346\n",
      "Количество итерраций 24 Точность 0.6998444790046656\n",
      "Количество итерраций 25 Точность 0.7122861586314152\n",
      "Количество итерраций 26 Точность 0.7200622083981337\n",
      "Количество итерраций 27 Точность 0.7262830482115086\n",
      "Количество итерраций 28 Точность 0.7169517884914464\n",
      "Количество итерраций 29 Точность 0.7169517884914464\n",
      "Количество итерраций 30 Точность 0.7169517884914464\n",
      "Количество итерраций 31 Точность 0.7169517884914464\n",
      "Количество итерраций 32 Точность 0.7169517884914464\n",
      "Количество итерраций 33 Точность 0.7169517884914464\n",
      "Количество итерраций 34 Точность 0.7169517884914464\n"
     ]
    },
    {
     "name": "stderr",
     "output_type": "stream",
     "text": [
      "/opt/conda/lib/python3.9/site-packages/sklearn/linear_model/_logistic.py:763: ConvergenceWarning: lbfgs failed to converge (status=1):\n",
      "STOP: TOTAL NO. of ITERATIONS REACHED LIMIT.\n",
      "\n",
      "Increase the number of iterations (max_iter) or scale the data as shown in:\n",
      "    https://scikit-learn.org/stable/modules/preprocessing.html\n",
      "Please also refer to the documentation for alternative solver options:\n",
      "    https://scikit-learn.org/stable/modules/linear_model.html#logistic-regression\n",
      "  n_iter_i = _check_optimize_result(\n",
      "/opt/conda/lib/python3.9/site-packages/sklearn/linear_model/_logistic.py:763: ConvergenceWarning: lbfgs failed to converge (status=1):\n",
      "STOP: TOTAL NO. of ITERATIONS REACHED LIMIT.\n",
      "\n",
      "Increase the number of iterations (max_iter) or scale the data as shown in:\n",
      "    https://scikit-learn.org/stable/modules/preprocessing.html\n",
      "Please also refer to the documentation for alternative solver options:\n",
      "    https://scikit-learn.org/stable/modules/linear_model.html#logistic-regression\n",
      "  n_iter_i = _check_optimize_result(\n",
      "/opt/conda/lib/python3.9/site-packages/sklearn/linear_model/_logistic.py:763: ConvergenceWarning: lbfgs failed to converge (status=1):\n",
      "STOP: TOTAL NO. of ITERATIONS REACHED LIMIT.\n",
      "\n",
      "Increase the number of iterations (max_iter) or scale the data as shown in:\n",
      "    https://scikit-learn.org/stable/modules/preprocessing.html\n",
      "Please also refer to the documentation for alternative solver options:\n",
      "    https://scikit-learn.org/stable/modules/linear_model.html#logistic-regression\n",
      "  n_iter_i = _check_optimize_result(\n",
      "/opt/conda/lib/python3.9/site-packages/sklearn/linear_model/_logistic.py:763: ConvergenceWarning: lbfgs failed to converge (status=1):\n",
      "STOP: TOTAL NO. of ITERATIONS REACHED LIMIT.\n",
      "\n",
      "Increase the number of iterations (max_iter) or scale the data as shown in:\n",
      "    https://scikit-learn.org/stable/modules/preprocessing.html\n",
      "Please also refer to the documentation for alternative solver options:\n",
      "    https://scikit-learn.org/stable/modules/linear_model.html#logistic-regression\n",
      "  n_iter_i = _check_optimize_result(\n",
      "/opt/conda/lib/python3.9/site-packages/sklearn/linear_model/_logistic.py:763: ConvergenceWarning: lbfgs failed to converge (status=1):\n",
      "STOP: TOTAL NO. of ITERATIONS REACHED LIMIT.\n",
      "\n",
      "Increase the number of iterations (max_iter) or scale the data as shown in:\n",
      "    https://scikit-learn.org/stable/modules/preprocessing.html\n",
      "Please also refer to the documentation for alternative solver options:\n",
      "    https://scikit-learn.org/stable/modules/linear_model.html#logistic-regression\n",
      "  n_iter_i = _check_optimize_result(\n",
      "/opt/conda/lib/python3.9/site-packages/sklearn/linear_model/_logistic.py:763: ConvergenceWarning: lbfgs failed to converge (status=1):\n",
      "STOP: TOTAL NO. of ITERATIONS REACHED LIMIT.\n",
      "\n",
      "Increase the number of iterations (max_iter) or scale the data as shown in:\n",
      "    https://scikit-learn.org/stable/modules/preprocessing.html\n",
      "Please also refer to the documentation for alternative solver options:\n",
      "    https://scikit-learn.org/stable/modules/linear_model.html#logistic-regression\n",
      "  n_iter_i = _check_optimize_result(\n",
      "/opt/conda/lib/python3.9/site-packages/sklearn/linear_model/_logistic.py:763: ConvergenceWarning: lbfgs failed to converge (status=1):\n",
      "STOP: TOTAL NO. of ITERATIONS REACHED LIMIT.\n",
      "\n",
      "Increase the number of iterations (max_iter) or scale the data as shown in:\n",
      "    https://scikit-learn.org/stable/modules/preprocessing.html\n",
      "Please also refer to the documentation for alternative solver options:\n",
      "    https://scikit-learn.org/stable/modules/linear_model.html#logistic-regression\n",
      "  n_iter_i = _check_optimize_result(\n",
      "/opt/conda/lib/python3.9/site-packages/sklearn/linear_model/_logistic.py:763: ConvergenceWarning: lbfgs failed to converge (status=1):\n",
      "STOP: TOTAL NO. of ITERATIONS REACHED LIMIT.\n",
      "\n",
      "Increase the number of iterations (max_iter) or scale the data as shown in:\n",
      "    https://scikit-learn.org/stable/modules/preprocessing.html\n",
      "Please also refer to the documentation for alternative solver options:\n",
      "    https://scikit-learn.org/stable/modules/linear_model.html#logistic-regression\n",
      "  n_iter_i = _check_optimize_result(\n",
      "/opt/conda/lib/python3.9/site-packages/sklearn/linear_model/_logistic.py:763: ConvergenceWarning: lbfgs failed to converge (status=1):\n",
      "STOP: TOTAL NO. of ITERATIONS REACHED LIMIT.\n",
      "\n",
      "Increase the number of iterations (max_iter) or scale the data as shown in:\n",
      "    https://scikit-learn.org/stable/modules/preprocessing.html\n",
      "Please also refer to the documentation for alternative solver options:\n",
      "    https://scikit-learn.org/stable/modules/linear_model.html#logistic-regression\n",
      "  n_iter_i = _check_optimize_result(\n"
     ]
    },
    {
     "name": "stdout",
     "output_type": "stream",
     "text": [
      "Количество итерраций 35 Точность 0.7169517884914464\n",
      "Количество итерраций 36 Точность 0.7169517884914464\n",
      "Количество итерраций 37 Точность 0.7169517884914464\n",
      "Количество итерраций 38 Точность 0.7169517884914464\n",
      "Количество итерраций 39 Точность 0.7169517884914464\n",
      "Лучшая количество итерраций 27 Лучшая точность 0.7262830482115086\n"
     ]
    }
   ],
   "source": [
    "best_max_iter = 0\n",
    "best_accuracy = 0\n",
    "\n",
    "for max_iter in range(1,40):\n",
    "    model = LogisticRegression(random_state=13032023, max_iter=max_iter)\n",
    "    model.fit(train_df_features, train_df_target)\n",
    "    valid_predictions = model.predict(valid_df_features)\n",
    "    accuracy = accuracy_score(valid_df_target, valid_predictions)\n",
    "    print('Количество итерраций', max_iter,'Точность',accuracy)\n",
    "    if accuracy > best_accuracy:\n",
    "        best_max_iter = max_iter\n",
    "        best_accuracy = accuracy\n",
    "\n",
    "print('Лучшая количество итерраций', best_max_iter,'Лучшая точность', best_accuracy)"
   ]
  },
  {
   "cell_type": "code",
   "execution_count": 71,
   "metadata": {},
   "outputs": [
    {
     "name": "stdout",
     "output_type": "stream",
     "text": [
      "Количество итерраций 30 Точность 0.7169517884914464\n"
     ]
    }
   ],
   "source": [
    "best_reg_model = LogisticRegression(random_state=13032023)\n",
    "best_reg_model.fit(train_df_features, train_df_target)\n",
    "valid_predictions = best_reg_model.predict(valid_df_features)\n",
    "accuracy = accuracy_score(valid_df_target, valid_predictions)\n",
    "print('Количество итерраций', 30,'Точность',accuracy)\n"
   ]
  },
  {
   "cell_type": "markdown",
   "metadata": {},
   "source": [
    "Значение по-умолчанию в `max_iter=30` хорошее\n",
    "\n",
    "Как и у 28, 29 итераций: увеличение в большую сторону ничего не меняет - изменим другой гиперпараметр `solver`"
   ]
  },
  {
   "cell_type": "code",
   "execution_count": 78,
   "metadata": {},
   "outputs": [
    {
     "name": "stdout",
     "output_type": "stream",
     "text": [
      "Solver saga Точность 0.6951788491446346\n",
      "Solver sag Точность 0.6967340590979783\n",
      "Solver lbfgs Точность 0.7169517884914464\n",
      "Solver liblinear Точность 0.7371695178849145\n",
      "Solver newton-cg Точность 0.7402799377916018\n",
      "Лучший solver newton-cg Лучшая точность 0.7402799377916018\n"
     ]
    },
    {
     "name": "stderr",
     "output_type": "stream",
     "text": [
      "/opt/conda/lib/python3.9/site-packages/sklearn/linear_model/_sag.py:328: ConvergenceWarning: The max_iter was reached which means the coef_ did not converge\n",
      "  warnings.warn(\"The max_iter was reached which means \"\n",
      "/opt/conda/lib/python3.9/site-packages/sklearn/linear_model/_sag.py:328: ConvergenceWarning: The max_iter was reached which means the coef_ did not converge\n",
      "  warnings.warn(\"The max_iter was reached which means \"\n"
     ]
    }
   ],
   "source": [
    "best_solver = ''\n",
    "best_accuracy = 0\n",
    "\n",
    "for solve in {'newton-cg', 'lbfgs', 'liblinear', 'sag', 'saga'}:\n",
    "    model = LogisticRegression(random_state=13032023, solver=solve)\n",
    "    model.fit(train_df_features, train_df_target)\n",
    "    valid_predictions = model.predict(valid_df_features)\n",
    "    accuracy = accuracy_score(valid_df_target, valid_predictions)\n",
    "    print('Solver', solve,'Точность',accuracy)\n",
    "    if accuracy > best_accuracy:\n",
    "        best_solver= solve\n",
    "        best_accuracy = accuracy\n",
    "\n",
    "print('Лучший solver', best_solver,'Лучшая точность', best_accuracy)"
   ]
  },
  {
   "cell_type": "markdown",
   "metadata": {},
   "source": [
    "Лучшим `solver` является `newton-cg`, а не  `lbfgs`, который стоит по умолчанию\n",
    "\n",
    "Изменим в цикле гиперпараметр С"
   ]
  },
  {
   "cell_type": "code",
   "execution_count": 80,
   "metadata": {},
   "outputs": [
    {
     "name": "stdout",
     "output_type": "stream",
     "text": [
      "C= 0.1 Точность 0.7169517884914464\n",
      "C= 0.2 Точность 0.7169517884914464\n",
      "C= 0.3 Точность 0.7169517884914464\n",
      "C= 0.4 Точность 0.7169517884914464\n",
      "C= 0.5 Точность 0.7169517884914464\n",
      "C= 0.6 Точность 0.7169517884914464\n",
      "C= 0.7 Точность 0.7169517884914464\n",
      "C= 0.8 Точность 0.7169517884914464\n",
      "C= 0.9 Точность 0.7169517884914464\n",
      "C= 1.0 Точность 0.7169517884914464\n",
      "C= 1.1 Точность 0.7169517884914464\n",
      "C= 1.2 Точность 0.7169517884914464\n",
      "C= 1.3 Точность 0.7169517884914464\n",
      "C= 1.4 Точность 0.7169517884914464\n",
      "Лучший C 0.1 Лучшая точность 0.7169517884914464\n"
     ]
    }
   ],
   "source": [
    "best_C = 0.0\n",
    "best_accuracy = 0\n",
    "\n",
    "\n",
    "for float_c in [x/10 for x in range(1,15)]:\n",
    "    model = LogisticRegression(random_state=13032023, C=float_c)\n",
    "    model.fit(train_df_features, train_df_target)\n",
    "    valid_predictions = model.predict(valid_df_features)\n",
    "    accuracy = accuracy_score(valid_df_target, valid_predictions)\n",
    "    print('C=', float_c,'Точность',accuracy)\n",
    "    if accuracy > best_accuracy:\n",
    "        best_C = float_c\n",
    "        best_accuracy = accuracy\n",
    "\n",
    "print('Лучший C', best_C,'Лучшая точность', best_accuracy) "
   ]
  },
  {
   "cell_type": "markdown",
   "metadata": {},
   "source": [
    "Значение по умолчанию `C=1` показывает лучший результат"
   ]
  },
  {
   "cell_type": "markdown",
   "metadata": {},
   "source": [
    "*Вывод:*\n",
    "- Точность модели решающего дерева при глубине 7 равна 0.7776049766718507;\n",
    "- Точность модели случайного леса при количестве деревьев 18 равна 0.7900466562986003;\n",
    "- Точность модели логистической регресии равна 0.7169517884914464;\n",
    "\n",
    "\n",
    "Так как выборка небольшая, то лучший результат показывает решающее древо с гиперпараметром `max_depth=7`"
   ]
  },
  {
   "cell_type": "markdown",
   "metadata": {},
   "source": [
    "## Проверим модели на тестовой выборке"
   ]
  },
  {
   "cell_type": "markdown",
   "metadata": {},
   "source": [
    "Оценим точность каждой рассматриваемой модели на тестовой выборке"
   ]
  },
  {
   "cell_type": "code",
   "execution_count": 85,
   "metadata": {},
   "outputs": [
    {
     "name": "stdout",
     "output_type": "stream",
     "text": [
      "Точность модели решающего дерева на тестовой выборке 0.8242612752721618\n",
      "Точность модели случайного леса на тестовой выборке 0.8164852255054432\n",
      "Точность модели логистической регресиии на тестовой выборке 0.744945567651633\n"
     ]
    }
   ],
   "source": [
    "test_predictions = best_tree_model.predict(test_df_features)\n",
    "accuracy = accuracy_score(test_df_target, test_predictions)\n",
    "print('Точность модели решающего дерева на тестовой выборке',accuracy)\n",
    "\n",
    "test_predictions = best_forest_model.predict(test_df_features)\n",
    "accuracy = accuracy_score(test_df_target, test_predictions)\n",
    "print('Точность модели случайного леса на тестовой выборке',accuracy)\n",
    "\n",
    "test_predictions = best_reg_model.predict(test_df_features)\n",
    "accuracy = accuracy_score(test_df_target, test_predictions)\n",
    "print('Точность модели логистической регресиии на тестовой выборке',accuracy)"
   ]
  },
  {
   "cell_type": "markdown",
   "metadata": {},
   "source": [
    "*Вывод:*\n",
    "\n",
    "Для решения поставленной задачи можно выбрать модель логичтисеской регсрессии с поправкой, что точность 0.75 достигается округлением до сотых значения 0.744945567651633.\n",
    "\n",
    "Учитывая разницу между текущей точностью и точностью на валидационной выборке, можно сделать вывод слабой переобученности модели."
   ]
  },
  {
   "cell_type": "markdown",
   "metadata": {},
   "source": [
    "## (бонус) Проверка модели на адекватность"
   ]
  },
  {
   "cell_type": "code",
   "execution_count": 90,
   "metadata": {},
   "outputs": [
    {
     "name": "stdout",
     "output_type": "stream",
     "text": [
      "Accuracy = 0.8164852255054432 Precision = 0.7372881355932204 Recall = 0.5\n"
     ]
    }
   ],
   "source": [
    "test_predictions = best_forest_model.predict(test_df_features)\n",
    "accuracy = accuracy_score(test_df_target, test_predictions)\n",
    "precision = precision_score(test_df_target, test_predictions)\n",
    "recall = recall_score(test_df_target, test_predictions)\n",
    "print('Accuracy =', accuracy, 'Precision =', precision, 'Recall =', recall)"
   ]
  },
  {
   "cell_type": "markdown",
   "metadata": {},
   "source": [
    "Для оценки адеватности используется `F-мера` - среднее гармоническое между `precision` и `recall`\n",
    "\n",
    "Если хотя бы один из параметров близок к нулю, то и `F-мера` стремится к 0\n",
    "Если оба стремятся к 1, то `F-мера` тоже стремится к 1"
   ]
  },
  {
   "cell_type": "code",
   "execution_count": 92,
   "metadata": {},
   "outputs": [
    {
     "name": "stdout",
     "output_type": "stream",
     "text": [
      "F-мера = 0.5958904109589042\n"
     ]
    }
   ],
   "source": [
    "f_score = f1_score(test_df_target, test_predictions)\n",
    "print('F-мера =', f_score)"
   ]
  },
  {
   "cell_type": "markdown",
   "metadata": {},
   "source": [
    "Адекватность модели оценивается по нескольким параметрам. Для модели классификации это `accuracy`, `precision` и `recall`\n",
    "\n",
    "Качество модели лучше всего отражают `precision` и `recall` и эти метрики складываются в `F-мера` как единую оценку модели.\n",
    "\n",
    "Модель получилась среднего качества и  для таких задач она адекватна"
   ]
  },
  {
   "cell_type": "markdown",
   "metadata": {},
   "source": [
    "## Вывод\n",
    "В итоге были выполнены следующие действия: \n",
    "\n",
    "- Разбиты данные на три выборки: обучающая, валидационная и тестовая.\n",
    "- Исследованы три модели классификации: Решающее дерево, Случайный лес и Логистическая регрессия.\n",
    "- Найдены оптимальные параметры для каждой модели и выбрана одна из них для обучения модели.\n",
    "- Оценена точность обученной модели.\n",
    "- Оценена адекватность модели.\n",
    "\n",
    "\n",
    "Для обучения модели было использована выборка в 2000 значений. Этого может быть недостаточно для повышения ключевых параметров модели классификатора. Увеличение в 10 или 100 увеличит accuracy, precision и recall, а также время обучения.\n",
    "\n",
    "Адекватность модели повышается с ростом количества значений"
   ]
  },
  {
   "cell_type": "markdown",
   "metadata": {},
   "source": [
    "## Чек-лист готовности проекта"
   ]
  },
  {
   "cell_type": "markdown",
   "metadata": {},
   "source": [
    "Поставьте 'x' в выполненных пунктах. Далее нажмите Shift+Enter."
   ]
  },
  {
   "cell_type": "markdown",
   "metadata": {},
   "source": [
    "- [x] Jupyter Notebook открыт\n",
    "- [ ] Весь код исполняется без ошибок\n",
    "- [x] Ячейки с кодом расположены в порядке исполнения\n",
    "- [x] Выполнено задание 1: данные загружены и изучены\n",
    "- [x] Выполнено задание 2: данные разбиты на три выборки\n",
    "- [x] Выполнено задание 3: проведено исследование моделей\n",
    "    - [x] Рассмотрено больше одной модели\n",
    "    - [x] Рассмотрено хотя бы 3 значения гипепараметров для какой-нибудь модели\n",
    "    - [x] Написаны выводы по результатам исследования\n",
    "- [x] Выполнено задание 3: Проведено тестирование\n",
    "- [ ] Удалось достичь accuracy не меньше 0.75\n"
   ]
  }
 ],
 "metadata": {
  "ExecuteTimeLog": [
   {
    "duration": 1513,
    "start_time": "2023-03-12T14:38:49.050Z"
   },
   {
    "duration": 75,
    "start_time": "2023-03-12T14:39:19.704Z"
   },
   {
    "duration": 13,
    "start_time": "2023-03-12T14:39:39.643Z"
   },
   {
    "duration": 12,
    "start_time": "2023-03-12T14:39:51.513Z"
   },
   {
    "duration": 6,
    "start_time": "2023-03-12T14:42:47.897Z"
   },
   {
    "duration": 9,
    "start_time": "2023-03-12T14:44:10.597Z"
   },
   {
    "duration": 74,
    "start_time": "2023-03-12T14:46:40.168Z"
   },
   {
    "duration": 143063,
    "start_time": "2023-03-12T14:51:19.255Z"
   },
   {
    "duration": 47,
    "start_time": "2023-03-12T14:53:42.319Z"
   },
   {
    "duration": 50,
    "start_time": "2023-03-12T14:53:42.368Z"
   },
   {
    "duration": 44,
    "start_time": "2023-03-12T14:54:57.674Z"
   },
   {
    "duration": 13,
    "start_time": "2023-03-12T14:55:38.807Z"
   },
   {
    "duration": 239,
    "start_time": "2023-03-12T14:55:46.763Z"
   },
   {
    "duration": 11,
    "start_time": "2023-03-12T14:55:58.059Z"
   },
   {
    "duration": 245,
    "start_time": "2023-03-12T14:56:00.036Z"
   },
   {
    "duration": 43,
    "start_time": "2023-03-12T14:56:06.229Z"
   },
   {
    "duration": 39,
    "start_time": "2023-03-12T14:56:10.833Z"
   },
   {
    "duration": 43,
    "start_time": "2023-03-12T14:56:26.644Z"
   },
   {
    "duration": 39,
    "start_time": "2023-03-12T14:56:34.728Z"
   },
   {
    "duration": 12,
    "start_time": "2023-03-12T14:56:39.126Z"
   },
   {
    "duration": 40,
    "start_time": "2023-03-12T14:56:48.726Z"
   },
   {
    "duration": 29,
    "start_time": "2023-03-12T15:01:28.372Z"
   },
   {
    "duration": 11,
    "start_time": "2023-03-12T15:02:43.521Z"
   },
   {
    "duration": 5,
    "start_time": "2023-03-12T15:03:33.285Z"
   },
   {
    "duration": 15,
    "start_time": "2023-03-12T15:04:03.532Z"
   },
   {
    "duration": 4,
    "start_time": "2023-03-12T15:04:05.533Z"
   },
   {
    "duration": 15,
    "start_time": "2023-03-12T15:05:07.142Z"
   },
   {
    "duration": 17,
    "start_time": "2023-03-12T15:05:38.104Z"
   },
   {
    "duration": 18,
    "start_time": "2023-03-12T15:05:43.544Z"
   },
   {
    "duration": 268,
    "start_time": "2023-03-12T15:06:06.379Z"
   },
   {
    "duration": 41,
    "start_time": "2023-03-12T15:06:45.689Z"
   },
   {
    "duration": 7,
    "start_time": "2023-03-12T15:07:29.118Z"
   },
   {
    "duration": 111,
    "start_time": "2023-03-12T15:08:26.276Z"
   },
   {
    "duration": 15,
    "start_time": "2023-03-12T15:08:37.164Z"
   },
   {
    "duration": 1543,
    "start_time": "2023-03-13T07:27:25.476Z"
   },
   {
    "duration": 79,
    "start_time": "2023-03-13T07:27:27.021Z"
   },
   {
    "duration": 13,
    "start_time": "2023-03-13T07:27:28.514Z"
   },
   {
    "duration": 16,
    "start_time": "2023-03-13T07:27:34.283Z"
   },
   {
    "duration": 5,
    "start_time": "2023-03-13T07:27:36.586Z"
   },
   {
    "duration": 7,
    "start_time": "2023-03-13T07:30:26.463Z"
   },
   {
    "duration": 8,
    "start_time": "2023-03-13T07:31:57.248Z"
   },
   {
    "duration": 8,
    "start_time": "2023-03-13T07:42:58.901Z"
   },
   {
    "duration": 6,
    "start_time": "2023-03-13T07:43:00.521Z"
   },
   {
    "duration": 6,
    "start_time": "2023-03-13T07:43:38.541Z"
   },
   {
    "duration": 10,
    "start_time": "2023-03-13T07:47:34.355Z"
   },
   {
    "duration": 6,
    "start_time": "2023-03-13T07:47:37.054Z"
   },
   {
    "duration": 120,
    "start_time": "2023-03-13T07:48:18.217Z"
   },
   {
    "duration": 160,
    "start_time": "2023-03-13T07:48:46.027Z"
   },
   {
    "duration": 116,
    "start_time": "2023-03-13T07:48:57.880Z"
   },
   {
    "duration": 107,
    "start_time": "2023-03-13T07:49:04.759Z"
   },
   {
    "duration": 14,
    "start_time": "2023-03-13T07:50:27.766Z"
   },
   {
    "duration": 14,
    "start_time": "2023-03-13T07:52:50.638Z"
   },
   {
    "duration": 14,
    "start_time": "2023-03-13T07:53:18.205Z"
   },
   {
    "duration": 13,
    "start_time": "2023-03-13T07:54:53.126Z"
   },
   {
    "duration": 13,
    "start_time": "2023-03-13T07:54:54.438Z"
   },
   {
    "duration": 9,
    "start_time": "2023-03-13T07:55:15.838Z"
   },
   {
    "duration": 109,
    "start_time": "2023-03-13T08:11:29.017Z"
   },
   {
    "duration": 13,
    "start_time": "2023-03-13T08:11:59.042Z"
   },
   {
    "duration": 119,
    "start_time": "2023-03-13T08:12:12.338Z"
   },
   {
    "duration": 12,
    "start_time": "2023-03-13T08:12:14.643Z"
   },
   {
    "duration": 50,
    "start_time": "2023-03-13T08:15:10.506Z"
   },
   {
    "duration": 44,
    "start_time": "2023-03-13T08:15:35.997Z"
   },
   {
    "duration": 48,
    "start_time": "2023-03-13T08:15:42.438Z"
   },
   {
    "duration": 44,
    "start_time": "2023-03-13T08:15:48.398Z"
   },
   {
    "duration": 48,
    "start_time": "2023-03-13T08:16:10.338Z"
   },
   {
    "duration": 47,
    "start_time": "2023-03-13T08:17:10.668Z"
   },
   {
    "duration": 119,
    "start_time": "2023-03-13T08:19:26.370Z"
   },
   {
    "duration": 120,
    "start_time": "2023-03-13T08:19:57.438Z"
   },
   {
    "duration": 20,
    "start_time": "2023-03-13T08:21:46.611Z"
   },
   {
    "duration": 12,
    "start_time": "2023-03-13T08:21:55.211Z"
   },
   {
    "duration": 12,
    "start_time": "2023-03-13T08:22:02.894Z"
   },
   {
    "duration": 11,
    "start_time": "2023-03-13T08:22:41.845Z"
   },
   {
    "duration": 40,
    "start_time": "2023-03-13T08:23:20.583Z"
   },
   {
    "duration": 508,
    "start_time": "2023-03-13T08:24:26.123Z"
   },
   {
    "duration": 23,
    "start_time": "2023-03-13T08:32:00.216Z"
   },
   {
    "duration": 15,
    "start_time": "2023-03-13T08:32:12.731Z"
   },
   {
    "duration": 17,
    "start_time": "2023-03-13T08:35:51.962Z"
   },
   {
    "duration": 18,
    "start_time": "2023-03-13T08:36:24.822Z"
   },
   {
    "duration": 16,
    "start_time": "2023-03-13T08:39:28.862Z"
   },
   {
    "duration": 18,
    "start_time": "2023-03-13T08:39:54.570Z"
   },
   {
    "duration": 10,
    "start_time": "2023-03-13T08:42:31.576Z"
   },
   {
    "duration": 10,
    "start_time": "2023-03-13T08:44:54.539Z"
   },
   {
    "duration": 16,
    "start_time": "2023-03-13T08:45:03.825Z"
   },
   {
    "duration": 45,
    "start_time": "2023-03-13T08:47:36.649Z"
   },
   {
    "duration": 16,
    "start_time": "2023-03-13T08:50:12.547Z"
   },
   {
    "duration": 18,
    "start_time": "2023-03-13T08:50:18.375Z"
   },
   {
    "duration": 52,
    "start_time": "2023-03-13T08:52:53.647Z"
   },
   {
    "duration": 848,
    "start_time": "2023-03-13T08:53:49.548Z"
   },
   {
    "duration": 79,
    "start_time": "2023-03-13T08:54:43.948Z"
   },
   {
    "duration": 82,
    "start_time": "2023-03-13T08:55:29.815Z"
   },
   {
    "duration": 90,
    "start_time": "2023-03-13T08:55:38.028Z"
   },
   {
    "duration": 90,
    "start_time": "2023-03-13T08:55:46.795Z"
   },
   {
    "duration": 106,
    "start_time": "2023-03-13T08:57:15.207Z"
   },
   {
    "duration": 11,
    "start_time": "2023-03-13T08:58:43.006Z"
   },
   {
    "duration": 80,
    "start_time": "2023-03-13T08:59:02.746Z"
   },
   {
    "duration": 429,
    "start_time": "2023-03-13T09:17:46.491Z"
   },
   {
    "duration": 424,
    "start_time": "2023-03-13T09:18:11.140Z"
   },
   {
    "duration": 491,
    "start_time": "2023-03-13T09:19:42.696Z"
   },
   {
    "duration": 21,
    "start_time": "2023-03-13T09:20:23.210Z"
   },
   {
    "duration": 19,
    "start_time": "2023-03-13T09:20:36.217Z"
   },
   {
    "duration": 20,
    "start_time": "2023-03-13T09:20:40.269Z"
   },
   {
    "duration": 20,
    "start_time": "2023-03-13T09:20:44.945Z"
   },
   {
    "duration": 24,
    "start_time": "2023-03-13T09:20:48.338Z"
   },
   {
    "duration": 20,
    "start_time": "2023-03-13T09:20:52.029Z"
   },
   {
    "duration": 29,
    "start_time": "2023-03-13T09:21:19.750Z"
   },
   {
    "duration": 169,
    "start_time": "2023-03-13T09:22:56.839Z"
   },
   {
    "duration": 246,
    "start_time": "2023-03-13T09:25:52.417Z"
   },
   {
    "duration": 242,
    "start_time": "2023-03-13T09:26:02.349Z"
   },
   {
    "duration": 263,
    "start_time": "2023-03-13T09:26:21.705Z"
   },
   {
    "duration": 345,
    "start_time": "2023-03-13T09:26:29.654Z"
   },
   {
    "duration": 167,
    "start_time": "2023-03-13T09:26:36.897Z"
   },
   {
    "duration": 186,
    "start_time": "2023-03-13T09:26:51.097Z"
   },
   {
    "duration": 165,
    "start_time": "2023-03-13T09:26:57.977Z"
   },
   {
    "duration": 217,
    "start_time": "2023-03-13T09:27:27.909Z"
   },
   {
    "duration": 10,
    "start_time": "2023-03-13T09:30:58.510Z"
   },
   {
    "duration": 10,
    "start_time": "2023-03-13T09:31:04.091Z"
   },
   {
    "duration": 27,
    "start_time": "2023-03-13T09:32:18.158Z"
   },
   {
    "duration": 19,
    "start_time": "2023-03-13T09:32:47.468Z"
   },
   {
    "duration": 17,
    "start_time": "2023-03-13T09:34:45.556Z"
   },
   {
    "duration": 19,
    "start_time": "2023-03-13T09:37:23.397Z"
   },
   {
    "duration": 4,
    "start_time": "2023-03-13T09:38:06.868Z"
   },
   {
    "duration": 19,
    "start_time": "2023-03-13T09:38:13.310Z"
   },
   {
    "duration": 4,
    "start_time": "2023-03-13T09:38:27.149Z"
   },
   {
    "duration": 13,
    "start_time": "2023-03-13T09:38:31.307Z"
   },
   {
    "duration": 6,
    "start_time": "2023-03-13T09:39:38.515Z"
   },
   {
    "duration": 5,
    "start_time": "2023-03-13T09:39:58.227Z"
   },
   {
    "duration": 1938,
    "start_time": "2023-03-13T22:10:08.834Z"
   },
   {
    "duration": 130,
    "start_time": "2023-03-13T22:10:10.775Z"
   },
   {
    "duration": 20,
    "start_time": "2023-03-13T22:10:10.907Z"
   },
   {
    "duration": 16,
    "start_time": "2023-03-13T22:10:10.929Z"
   },
   {
    "duration": 7,
    "start_time": "2023-03-13T22:10:10.948Z"
   },
   {
    "duration": 17,
    "start_time": "2023-03-13T22:10:10.957Z"
   },
   {
    "duration": 7,
    "start_time": "2023-03-13T22:10:10.975Z"
   },
   {
    "duration": 140,
    "start_time": "2023-03-13T22:10:10.984Z"
   },
   {
    "duration": 143,
    "start_time": "2023-03-13T22:10:11.126Z"
   },
   {
    "duration": 15,
    "start_time": "2023-03-13T22:10:35.966Z"
   },
   {
    "duration": 22,
    "start_time": "2023-03-13T22:10:48.096Z"
   },
   {
    "duration": 20,
    "start_time": "2023-03-13T22:10:53.729Z"
   }
  ],
  "kernelspec": {
   "display_name": "Python 3 (ipykernel)",
   "language": "python",
   "name": "python3"
  },
  "language_info": {
   "codemirror_mode": {
    "name": "ipython",
    "version": 3
   },
   "file_extension": ".py",
   "mimetype": "text/x-python",
   "name": "python",
   "nbconvert_exporter": "python",
   "pygments_lexer": "ipython3",
   "version": "3.9.5"
  },
  "toc": {
   "base_numbering": 1,
   "nav_menu": {},
   "number_sections": true,
   "sideBar": true,
   "skip_h1_title": true,
   "title_cell": "Table of Contents",
   "title_sidebar": "Contents",
   "toc_cell": false,
   "toc_position": {},
   "toc_section_display": true,
   "toc_window_display": false
  }
 },
 "nbformat": 4,
 "nbformat_minor": 2
}
